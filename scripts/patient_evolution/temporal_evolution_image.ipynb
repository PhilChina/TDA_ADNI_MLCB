{
 "cells": [
  {
   "cell_type": "code",
   "execution_count": null,
   "metadata": {},
   "outputs": [],
   "source": [
    "# Plot pairwise distances for paper"
   ]
  },
  {
   "cell_type": "code",
   "execution_count": 1,
   "metadata": {},
   "outputs": [],
   "source": [
    "import matplotlib.pyplot as plt\n",
    "import dotenv\n",
    "\n",
    "import numpy as np\n",
    "import pandas as pd\n",
    "\n",
    "from gtda.homology import CubicalPersistence\n",
    "from gtda.diagrams import (\n",
    "    PersistenceImage,\n",
    "    HeatKernel,\n",
    "    Silhouette,\n",
    "    BettiCurve,\n",
    "    PersistenceLandscape,\n",
    ")\n",
    "from scipy.stats import kurtosis, skew\n",
    "import os\n",
    "import seaborn as sns\n",
    "import utils\n",
    "import textwrap\n",
    "import json\n",
    "from plotly.subplots import make_subplots\n",
    "from plotly.graph_objects import Figure, Scatter\n",
    "from scipy.stats import mannwhitneyu"
   ]
  },
  {
   "cell_type": "code",
   "execution_count": null,
   "metadata": {},
   "outputs": [],
   "source": []
  }
 ],
 "metadata": {
  "kernelspec": {
   "display_name": "Python 3",
   "language": "python",
   "name": "python3"
  },
  "language_info": {
   "codemirror_mode": {
    "name": "ipython",
    "version": 3
   },
   "file_extension": ".py",
   "mimetype": "text/x-python",
   "name": "python",
   "nbconvert_exporter": "python",
   "pygments_lexer": "ipython3",
   "version": "3.6.12"
  }
 },
 "nbformat": 4,
 "nbformat_minor": 4
}
